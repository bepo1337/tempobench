{
 "cells": [
  {
   "cell_type": "code",
   "id": "initial_id",
   "metadata": {
    "collapsed": true,
    "ExecuteTime": {
     "end_time": "2025-05-02T09:51:03.344495Z",
     "start_time": "2025-05-02T09:51:01.986115Z"
    }
   },
   "source": [
    "import pandas as pd\n",
    "\n",
    "tm = pd.read_json(\"../../../benchmark/data/real_data_train.json\")\n",
    "par = pd.read_json(\"PAR.json\")\n",
    "tabsyn = pd.read_json(\"TabSyn.json\")\n",
    "tvae = pd.read_json(\"TVAE.json\")"
   ],
   "outputs": [],
   "execution_count": 7
  },
  {
   "metadata": {
    "ExecuteTime": {
     "end_time": "2025-05-02T09:51:03.839152Z",
     "start_time": "2025-05-02T09:51:03.834215Z"
    }
   },
   "cell_type": "code",
   "source": [
    "# Unique Entities\n",
    "print(f\"TM: {tm.player_id.nunique()}\")\n",
    "print(f\"PAR: {par.player_id.nunique()}\")\n",
    "print(f\"TabSyn: {tabsyn.player_id.nunique()}\")\n",
    "print(f\"TVAE: {tvae.player_id.nunique()}\")"
   ],
   "id": "7e9975bcc1211711",
   "outputs": [
    {
     "name": "stdout",
     "output_type": "stream",
     "text": [
      "TM: 3401\n",
      "PAR: 1632\n",
      "TabSyn: 2639\n",
      "TVAE: 3173\n"
     ]
    }
   ],
   "execution_count": 8
  },
  {
   "metadata": {
    "ExecuteTime": {
     "end_time": "2025-05-02T09:52:11.765392Z",
     "start_time": "2025-05-02T09:52:11.760304Z"
    }
   },
   "cell_type": "code",
   "source": [
    "# Rows\n",
    "print(f\"TM: {tm.shape[0]}\")\n",
    "print(f\"PAR: {par.shape[0]}\")\n",
    "print(f\"TabSyn: {tabsyn.shape[0]}\")\n",
    "print(f\"TVAE: {tvae.shape[0]}\")"
   ],
   "id": "bd6277e4eed576e9",
   "outputs": [
    {
     "name": "stdout",
     "output_type": "stream",
     "text": [
      "TM: 49693\n",
      "PAR: 49632\n",
      "TabSyn: 49693\n",
      "TVAE: 49693\n"
     ]
    }
   ],
   "execution_count": 9
  }
 ],
 "metadata": {
  "kernelspec": {
   "display_name": "Python 3",
   "language": "python",
   "name": "python3"
  },
  "language_info": {
   "codemirror_mode": {
    "name": "ipython",
    "version": 2
   },
   "file_extension": ".py",
   "mimetype": "text/x-python",
   "name": "python",
   "nbconvert_exporter": "python",
   "pygments_lexer": "ipython2",
   "version": "2.7.6"
  }
 },
 "nbformat": 4,
 "nbformat_minor": 5
}
